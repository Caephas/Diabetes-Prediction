{
  "cells": [
    {
      "cell_type": "markdown",
      "metadata": {
        "id": "spbNgK04ONzz"
      },
      "source": [
        "Importing the dependencies\n"
      ]
    },
    {
      "cell_type": "code",
      "execution_count": null,
      "metadata": {
        "id": "EzM39XTGODPW"
      },
      "outputs": [],
      "source": [
        "import numpy as np\n",
        "import pandas as pd\n",
        "from sklearn.preprocessing import StandardScaler\n",
        "from sklearn.model_selection import train_test_split\n",
        "from sklearn import svm\n",
        "from sklearn.metrics import accuracy_score"
      ]
    },
    {
      "cell_type": "markdown",
      "metadata": {
        "id": "43uMAi-CONQw"
      },
      "source": []
    },
    {
      "cell_type": "markdown",
      "metadata": {
        "id": "MhNQtZeRU-Oc"
      },
      "source": [
        "Data collection and analysis\n",
        "PIMA Diabetes dataset"
      ]
    },
    {
      "cell_type": "code",
      "execution_count": null,
      "metadata": {
        "id": "dafEgxxaVA2i"
      },
      "outputs": [],
      "source": [
        "#load the dataset to a pandas dataframe\n",
        "diabetes_dataset = pd.read_csv('diabetes.csv')\n"
      ]
    },
    {
      "cell_type": "code",
      "execution_count": null,
      "metadata": {
        "colab": {
          "base_uri": "https://localhost:8080/"
        },
        "id": "5QqQMCLaWD9y",
        "outputId": "82fa801e-67ff-49c7-9b66-0ea166f1c573"
      },
      "outputs": [],
      "source": [
        "#printing the first 5 rows of the dataset\n",
        "print(diabetes_dataset.head())"
      ]
    },
    {
      "cell_type": "code",
      "execution_count": null,
      "metadata": {
        "colab": {
          "base_uri": "https://localhost:8080/"
        },
        "id": "n7jLwkdAWMBH",
        "outputId": "6cbcd378-7681-4e5f-f555-7d72c77d09cc"
      },
      "outputs": [],
      "source": [
        "#number of rows and columns in this dataset\n",
        "#the number of rows is the first parameter it would print then followed by the column\n",
        "diabetes_dataset.shape"
      ]
    },
    {
      "cell_type": "code",
      "execution_count": null,
      "metadata": {
        "colab": {
          "base_uri": "https://localhost:8080/",
          "height": 300
        },
        "id": "lFm7G1lGWsdM",
        "outputId": "a87108e7-f7ff-4cdf-e759-c439d985f7fa"
      },
      "outputs": [],
      "source": [
        "#getting the statistical measures of the data\n",
        "diabetes_dataset.describe()"
      ]
    },
    {
      "cell_type": "code",
      "execution_count": null,
      "metadata": {
        "colab": {
          "base_uri": "https://localhost:8080/"
        },
        "id": "JlbqvRipXM7n",
        "outputId": "dcffa018-05bb-41f6-9648-712f0f6fb82d"
      },
      "outputs": [],
      "source": [
        "#checking the outcome\n",
        "diabetes_dataset['Outcome'].value_counts()"
      ]
    },
    {
      "cell_type": "markdown",
      "metadata": {
        "id": "vMRJMCabYQT7"
      },
      "source": [
        "0 ---> Non diabetic\n",
        "1 ---> Diabetic"
      ]
    },
    {
      "cell_type": "code",
      "execution_count": null,
      "metadata": {
        "colab": {
          "base_uri": "https://localhost:8080/",
          "height": 143
        },
        "id": "urJM4A9KX2So",
        "outputId": "45de5eea-2dd2-47d5-ca49-d4567524b17c"
      },
      "outputs": [],
      "source": [
        "diabetes_dataset.groupby('Outcome').mean()"
      ]
    },
    {
      "cell_type": "code",
      "execution_count": null,
      "metadata": {
        "id": "LDoGQcw1Ywmu"
      },
      "outputs": [],
      "source": [
        "#Separating data and labels\n",
        "X = diabetes_dataset.drop(columns = 'Outcome', axis = 1)\n",
        "Y = diabetes_dataset['Outcome']"
      ]
    },
    {
      "cell_type": "code",
      "execution_count": null,
      "metadata": {
        "colab": {
          "base_uri": "https://localhost:8080/"
        },
        "id": "a8KbQ_QpZfm9",
        "outputId": "e1249a67-c1d2-49c5-d99d-123342eee4c9"
      },
      "outputs": [],
      "source": [
        "print(X)"
      ]
    },
    {
      "cell_type": "code",
      "execution_count": null,
      "metadata": {
        "colab": {
          "base_uri": "https://localhost:8080/"
        },
        "id": "-pOwH__GZk3S",
        "outputId": "b237fdd9-f4d7-4dc5-e77c-a833dde021be"
      },
      "outputs": [],
      "source": [
        "print(Y)"
      ]
    },
    {
      "cell_type": "markdown",
      "metadata": {
        "id": "9xmdn4IFZvNl"
      },
      "source": [
        "Data Standardisation"
      ]
    },
    {
      "cell_type": "code",
      "execution_count": null,
      "metadata": {
        "id": "80UifGtKkdd8"
      },
      "outputs": [],
      "source": [
        "scalar = StandardScaler()"
      ]
    },
    {
      "cell_type": "code",
      "execution_count": null,
      "metadata": {
        "colab": {
          "base_uri": "https://localhost:8080/",
          "height": 75
        },
        "id": "JFS5DOzQkks4",
        "outputId": "2748fad9-ee8d-4161-c3f9-7dfba826be0a"
      },
      "outputs": [],
      "source": [
        "scalar.fit(X)"
      ]
    },
    {
      "cell_type": "code",
      "execution_count": null,
      "metadata": {
        "id": "jGevcTHTkst0"
      },
      "outputs": [],
      "source": [
        "standardised_data = scalar.transform(X)"
      ]
    },
    {
      "cell_type": "code",
      "execution_count": null,
      "metadata": {
        "colab": {
          "base_uri": "https://localhost:8080/"
        },
        "id": "MjHV0ap2lAzm",
        "outputId": "673c465c-1606-40b5-c677-b018bae2e5c0"
      },
      "outputs": [],
      "source": [
        "print(standardised_data)"
      ]
    },
    {
      "cell_type": "code",
      "execution_count": null,
      "metadata": {
        "id": "qWxPkeW2lS2H"
      },
      "outputs": [],
      "source": [
        "X = standardised_data\n",
        "Y = diabetes_dataset['Outcome']"
      ]
    },
    {
      "cell_type": "code",
      "execution_count": null,
      "metadata": {
        "colab": {
          "base_uri": "https://localhost:8080/"
        },
        "id": "teL6g5wwnb0H",
        "outputId": "90911dbd-7d7d-4bc0-f92f-ce85634a136f"
      },
      "outputs": [],
      "source": [
        "print(X)\n",
        "print(Y)"
      ]
    },
    {
      "cell_type": "markdown",
      "metadata": {
        "id": "ekGj1HZOnrBN"
      },
      "source": [
        "Train Test Split"
      ]
    },
    {
      "cell_type": "code",
      "execution_count": null,
      "metadata": {
        "id": "wnACFaKKniAJ"
      },
      "outputs": [],
      "source": [
        "X_train, X_test, Y_train, Y_test = train_test_split(X,Y, test_size=0.2, stratify=Y, random_state=2)"
      ]
    },
    {
      "cell_type": "code",
      "execution_count": null,
      "metadata": {
        "colab": {
          "base_uri": "https://localhost:8080/"
        },
        "id": "lFwVZiPDq6m9",
        "outputId": "020376c5-caa6-458f-b06f-832a3122fbc9"
      },
      "outputs": [],
      "source": [
        "print(X.shape, X_train.shape, X_test.shape)"
      ]
    },
    {
      "cell_type": "markdown",
      "metadata": {
        "id": "d82tsEdfsCwu"
      },
      "source": [
        "Training the Model"
      ]
    },
    {
      "cell_type": "code",
      "execution_count": null,
      "metadata": {
        "id": "FHUAzI5PrHOL"
      },
      "outputs": [],
      "source": [
        "classifier = svm.SVC(kernel = 'linear')"
      ]
    },
    {
      "cell_type": "code",
      "execution_count": null,
      "metadata": {
        "colab": {
          "base_uri": "https://localhost:8080/",
          "height": 75
        },
        "id": "r8p7wXPNsW7v",
        "outputId": "50fd88d5-b2bb-4f94-9fb9-3ee4a6e4f8c5"
      },
      "outputs": [],
      "source": [
        "#Training the support vector machine classifier\n",
        "classifier.fit(X_train, Y_train)"
      ]
    },
    {
      "cell_type": "markdown",
      "metadata": {
        "id": "pFyqNvjLtitq"
      },
      "source": [
        "Model Evaluation\n",
        "Accuracy score"
      ]
    },
    {
      "cell_type": "code",
      "execution_count": null,
      "metadata": {
        "id": "PEgvDqqssse8"
      },
      "outputs": [],
      "source": [
        "#accuracy score of the training data\n",
        "X_train_prediction = classifier.predict(X_train)\n",
        "training_data_accuracy = accuracy_score(X_train_prediction, Y_train)"
      ]
    },
    {
      "cell_type": "code",
      "execution_count": null,
      "metadata": {
        "colab": {
          "base_uri": "https://localhost:8080/"
        },
        "id": "04yGa8ZmuL6H",
        "outputId": "efd9cdfc-0034-41bd-a608-ca0d4094c959"
      },
      "outputs": [],
      "source": [
        "print('Accuracy score of the training data: ', training_data_accuracy )"
      ]
    },
    {
      "cell_type": "code",
      "execution_count": null,
      "metadata": {
        "id": "6rolzORzuadW"
      },
      "outputs": [],
      "source": [
        "#accuracy score of the test data\n",
        "X_test_prediction = classifier.predict(X_test)\n",
        "test_data_accuracy = accuracy_score(X_test_prediction, Y_test)"
      ]
    },
    {
      "cell_type": "code",
      "execution_count": null,
      "metadata": {
        "colab": {
          "base_uri": "https://localhost:8080/"
        },
        "id": "DJv67nHvuyu4",
        "outputId": "9b87d71c-3f1b-414f-a845-8382e56279f0"
      },
      "outputs": [],
      "source": [
        "print('Accuracy score of the test data:', test_data_accuracy )"
      ]
    },
    {
      "cell_type": "markdown",
      "metadata": {
        "id": "iCpVS16fvbzL"
      },
      "source": [
        "Making a predictive system"
      ]
    },
    {
      "cell_type": "code",
      "execution_count": null,
      "metadata": {
        "colab": {
          "base_uri": "https://localhost:8080/"
        },
        "id": "4qRI7tcPu-gf",
        "outputId": "5716c78f-16c5-4d3b-dcf8-5fd6188e5a3f"
      },
      "outputs": [],
      "source": [
        "input_data = (1,89,66,23,94,28.1,0.167,21)\n",
        "\n",
        "#change the input data into a numpy array\n",
        "input_data_as_numpy_array = np.asarray(input_data)\n",
        "\n",
        "#reshape the array so that it predicts for one instance\n",
        "input_data_reshaped = input_data_as_numpy_array.reshape(1, -1)\n",
        "\n",
        "#standardise the input data\n",
        "scaler = StandardScaler()\n",
        "std_data = scaler.fit(input_data_reshaped)\n",
        "std_data = scalar.transform(input_data_reshaped)\n",
        "print(std_data)\n",
        "\n",
        "prediction = classifier.predict(std_data)\n",
        "print(prediction)\n",
        "\n",
        "if(prediction[0] == 0):\n",
        "  print('The patient is not diabetic😁')\n",
        "else:\n",
        "  print('The patient is diabetic🥲')"
      ]
    }
  ],
  "metadata": {
    "colab": {
      "provenance": []
    },
    "kernelspec": {
      "display_name": "Python 3",
      "name": "python3"
    },
    "language_info": {
      "codemirror_mode": {
        "name": "ipython",
        "version": 3
      },
      "file_extension": ".py",
      "mimetype": "text/x-python",
      "name": "python",
      "nbconvert_exporter": "python",
      "pygments_lexer": "ipython3",
      "version": "3.10.9"
    }
  },
  "nbformat": 4,
  "nbformat_minor": 0
}
